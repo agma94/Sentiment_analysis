{
 "cells": [
  {
   "cell_type": "code",
   "execution_count": null,
   "metadata": {},
   "outputs": [],
   "source": [
    "from scrapy import Selector\n",
    "import requests\n",
    "import re\n",
    "import time\n",
    "import pandas as pd"
   ]
  },
  {
   "cell_type": "code",
   "execution_count": null,
   "metadata": {},
   "outputs": [],
   "source": [
    "product_id_iter = 0\n",
    "review_id_iter = 0\n",
    "\n",
    "columns_reviews_df = ['review_id', 'product_id', 'product_name', 'brand', 'user', 'date', 'grade', 'review_title', \n",
    "                      'review_body', 'review_pros', 'review_cons']\n",
    "reviews_df = pd.DataFrame(columns = columns_reviews_df)\n",
    "\n",
    "top_page_one_url = 'https://wizaz.pl/kosmetyki/pielegnacja-twarzy/kremy-do-twarzy?search_full%5Bsort%5D=reviews_desc&search_full%5Bfilter_reviews_min%5D=&search_full%5Bfilter_hits_min%5D='\n",
    "top_response = requests.get(top_page_one_url)\n",
    "top_response = Selector(text = top_response.text)\n",
    "\n",
    "top_pages_numbers = top_response.xpath('//div[@class = \"page-switcher\"]/ul/li/a/text()').extract()\n",
    "if top_pages_numbers:\n",
    "    top_max_page = int(top_pages_numbers[-1])\n",
    "else:\n",
    "    top_max_page =  1\n",
    "\n",
    "top_page_urls = [top_page_one_url + '&page=' + str(n) for n in range(1, top_max_page+1)]\n",
    "\n",
    "for top_page_url in top_page_urls:\n",
    "    \n",
    "    top_page_url_response = requests.get(top_page_url)\n",
    "    top_page_url_response = Selector(text = top_page_url_response.text)\n",
    "    reviews_urls = top_page_url_response.xpath('//h2/a/@href').extract()\n",
    "\n",
    "    for reviews_url in reviews_urls:\n",
    "        \n",
    "        time.sleep(1)\n",
    "\n",
    "        product_page_response = requests.get(reviews_url)\n",
    "        product_page_response = Selector( text = product_page_response.text)\n",
    "        \n",
    "        ### Extraction of product features\n",
    "        # number of reviews\n",
    "        number_of_reviews = int(product_page_response.xpath('//h2/span/text()').extract_first())\n",
    "        if number_of_reviews == 0:\n",
    "            continue\n",
    "        # assigning product id\n",
    "        product_id = product_id_iter \n",
    "        product_id_iter += 1\n",
    "        # product name\n",
    "        product_name =  product_page_response.xpath('//h1/text()').extract_first()\n",
    "        # brand\n",
    "        brand = product_page_response.xpath(\n",
    "            '//div[@itemprop = \"brand\"]/span[@class = \"value\"]/a/span/text()').extract_first()\n",
    "\n",
    "        review_max_page = product_page_response.xpath('//div[@class = \"page-switcher\"]/ul/li/a/text()').extract()\n",
    "        if review_max_page:\n",
    "            review_max_page = int(review_max_page[-1])\n",
    "        else:\n",
    "            review_max_page = 1\n",
    "            \n",
    "        reviews_pages_urls = [reviews_url + '?sortBy=addDate&dir=DESC&page=' + str(n) + '#!#recenzje' \\\n",
    "                                  for n in range(1, review_max_page+1)]\n",
    "        \n",
    "        for reviews_page_url in reviews_pages_urls:\n",
    "            \n",
    "            reviews_paged_response = requests.get(reviews_page_url)\n",
    "            reviews_paged_response = Selector(text = reviews_paged_response.text)\n",
    "            \n",
    "            ### Extraction of reviews\n",
    "            # users' names\n",
    "            users = reviews_paged_response.xpath('//div[@class = \"h2\"]/a/span/text()').extract()\n",
    "            # assigning review ids\n",
    "            review_ids = [x for x in range(review_id_iter, review_id_iter + len(users))]\n",
    "            review_id_iter = review_ids[-1] + 1\n",
    "            # date of review\n",
    "            dates = reviews_paged_response.xpath('//p[@itemprop=\"datePublished\"]/@content').extract()\n",
    "            # grade\n",
    "            grades = reviews_paged_response.xpath('//strong[@itemprop=\"ratingValue\"]/text()').extract()\n",
    "            grades = [int(x) for x in grades]\n",
    "            # titles of reviews\n",
    "            review_titles = reviews_paged_response.xpath('//h3/text()').extract()\n",
    "            # body of review\n",
    "            review_bodies = ['\\n'.join(description.xpath('./text()').extract()) \\\n",
    "                                for description in reviews_paged_response.xpath( \\\n",
    "                                    '//div[@class=\"opinion\"]/p[@itemprop=\"description\"]')]\n",
    "            # positive aspects of product\n",
    "            review_pros = [' '.join(description.xpath('./p[@class = \"for\"]/text()').extract()) \\\n",
    "                               for description in reviews_paged_response.xpath('//div[@class=\"feedback\"]')]\n",
    "            # negative aspects of product\n",
    "            review_cons = [' '.join(description.xpath('./p[@class = \"against\"]/text()').extract()) \\\n",
    "                               for description in reviews_paged_response.xpath('//div[@class=\"feedback\"]')]\n",
    "            \n",
    "            product_ids =  [product_id]*len(users)\n",
    "            product_names = [product_name]*len(users)\n",
    "            brands = [brand]*len(users)\n",
    "            \n",
    "            page_results = pd.DataFrame(zip(review_ids, product_ids, product_names, brands, users, dates, grades, \n",
    "                                            review_titles, review_bodies, review_pros, review_cons), \n",
    "                                        columns = columns_reviews_df)\n",
    "            reviews_df = pd.concat([reviews_df, page_results])\n",
    "        \n",
    "    print('Page: ' + re.findall('&page=(.*)', top_page_url)[0])"
   ]
  },
  {
   "cell_type": "code",
   "execution_count": null,
   "metadata": {},
   "outputs": [],
   "source": [
    "reviews_df"
   ]
  },
  {
   "cell_type": "code",
   "execution_count": null,
   "metadata": {
    "scrolled": true
   },
   "outputs": [],
   "source": [
    "reviews_df.shape"
   ]
  },
  {
   "cell_type": "code",
   "execution_count": null,
   "metadata": {},
   "outputs": [],
   "source": [
    "reviews_df.to_excel(\"data/reviews_full_df.xlsx\", index=False, encoding = 'utf-8')"
   ]
  }
 ],
 "metadata": {
  "kernelspec": {
   "display_name": "Python 3",
   "language": "python",
   "name": "python3"
  },
  "language_info": {
   "codemirror_mode": {
    "name": "ipython",
    "version": 3
   },
   "file_extension": ".py",
   "mimetype": "text/x-python",
   "name": "python",
   "nbconvert_exporter": "python",
   "pygments_lexer": "ipython3",
   "version": "3.8.5"
  }
 },
 "nbformat": 4,
 "nbformat_minor": 4
}
