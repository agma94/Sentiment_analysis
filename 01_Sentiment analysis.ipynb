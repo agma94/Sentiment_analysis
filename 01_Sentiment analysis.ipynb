{
 "cells": [
  {
   "cell_type": "markdown",
   "metadata": {},
   "source": [
    "# Sentiment analysis of beauty products based on reviews from wizaz.pl\n",
    "## Table of Contents\n",
    "\n",
    "[1. Abstract](#chapter1)  \n",
    "[2. Prerequisites](#chapter2)  \n",
    "[3. Introduction to dataset](#chapter3)  \n",
    "[4. Text cleaning](#chapter4)  \n",
    "[5. Sentiment analysis](#chapter5)  \n",
    "[6. Relevance of features](#chapter6)  \n",
    "[7. Criticism](#chapter7)  "
   ]
  },
  {
   "cell_type": "markdown",
   "metadata": {},
   "source": [
    "## 1. Abstract <a class=\"anchor\" id=\"chapter1\"></a>"
   ]
  },
  {
   "cell_type": "markdown",
   "metadata": {},
   "source": [
    "The notebook presents sentiment analysis of reviews of face creams from [wizaz.pl](https://wizaz.pl/) - the largest Polish database with reviews on cosmetics. The goal of the project was to develop a model, which would classify whether a review is positive, negative or neutral. \n",
    "\n",
    "Prior to modelling, the data have been undersampled (due to imbalance of classes) and cleaned. A few types of models have been tested, such as Naive Bayes, logistic regression, random forests and SVM. Logistic regresstion was selected as the best performing one with accuracy on test dataset equal to 75%. At the end, the inspection of most relevant features affecting the sentiment of reviews was performed."
   ]
  },
  {
   "cell_type": "markdown",
   "metadata": {},
   "source": [
    "## 2. Prerequisites <a class=\"anchor\" id=\"chapter2\"></a>"
   ]
  },
  {
   "cell_type": "code",
   "execution_count": 1,
   "metadata": {},
   "outputs": [],
   "source": [
    "import pandas as pd\n",
    "import numpy as np\n",
    "import matplotlib.pyplot as plt\n",
    "from imblearn.under_sampling import RandomUnderSampler\n",
    "import nltk\n",
    "from nltk.tokenize import word_tokenize\n",
    "from stop_words import get_stop_words\n",
    "import spacy\n",
    "import re\n",
    "import string\n",
    "import csv\n",
    "import pickle\n",
    "import language_tool_python\n",
    "from sklearn.model_selection import train_test_split, KFold, GridSearchCV\n",
    "from sklearn.metrics import accuracy_score, confusion_matrix\n",
    "from sklearn.naive_bayes import BernoulliNB\n",
    "from sklearn.linear_model import LogisticRegression\n",
    "from sklearn.svm import SVC\n",
    "from sklearn.ensemble import RandomForestClassifier\n",
    "from sklearn.decomposition import TruncatedSVD\n",
    "from sklearn.feature_extraction.text import CountVectorizer\n",
    "from sklearn.pipeline import make_pipeline\n",
    "import time\n",
    "\n",
    "rs = 124\n",
    "\n",
    "params = {'axes.labelsize': 12,\n",
    "         'axes.titlesize':20,\n",
    "         'xtick.labelsize':12,\n",
    "         'ytick.labelsize':12\n",
    "}\n",
    "plt.rcParams.update(params) "
   ]
  },
  {
   "cell_type": "markdown",
   "metadata": {},
   "source": [
    "## 3. Introduction to dataset <a class=\"anchor\" id=\"chapter3\"></a>"
   ]
  },
  {
   "cell_type": "markdown",
   "metadata": {},
   "source": [
    "An exemplary review from wizaz.pl is presented below. It consists of the title, main body and 'pros and cons' section (however, the latter is often left blank). The form of review is not stictly imposed. Both body and 'pros and cons' section can be bullets or a series of sentences. The users give ratings from 1 to 5 (only integer values are allowed).\n",
    "\n",
    "<img src=\"files/Sample_review.JPG\">"
   ]
  },
  {
   "cell_type": "markdown",
   "metadata": {},
   "source": [
    "The full dataset contains 67,512 reviews of 4,409 products."
   ]
  },
  {
   "cell_type": "code",
   "execution_count": 2,
   "metadata": {},
   "outputs": [
    {
     "data": {
      "text/html": [
       "<div>\n",
       "<style scoped>\n",
       "    .dataframe tbody tr th:only-of-type {\n",
       "        vertical-align: middle;\n",
       "    }\n",
       "\n",
       "    .dataframe tbody tr th {\n",
       "        vertical-align: top;\n",
       "    }\n",
       "\n",
       "    .dataframe thead th {\n",
       "        text-align: right;\n",
       "    }\n",
       "</style>\n",
       "<table border=\"1\" class=\"dataframe\">\n",
       "  <thead>\n",
       "    <tr style=\"text-align: right;\">\n",
       "      <th></th>\n",
       "      <th>review_id</th>\n",
       "      <th>product_id</th>\n",
       "      <th>product_name</th>\n",
       "      <th>brand</th>\n",
       "      <th>user</th>\n",
       "      <th>date</th>\n",
       "      <th>grade</th>\n",
       "      <th>review_title</th>\n",
       "      <th>review_body</th>\n",
       "      <th>review_pros</th>\n",
       "      <th>review_cons</th>\n",
       "    </tr>\n",
       "  </thead>\n",
       "  <tbody>\n",
       "    <tr>\n",
       "      <th>0</th>\n",
       "      <td>0</td>\n",
       "      <td>0</td>\n",
       "      <td>Nivea, Soft, Krem do twarzy i ciała (nowa wersja)</td>\n",
       "      <td>Nivea</td>\n",
       "      <td>Beata_Ewa</td>\n",
       "      <td>2021-08-19</td>\n",
       "      <td>4</td>\n",
       "      <td>Krem Nivea</td>\n",
       "      <td>+ ładny zapach\\n\\r\\n+ nawilżenie\\n\\r\\n+ korzys...</td>\n",
       "      <td>NaN</td>\n",
       "      <td>NaN</td>\n",
       "    </tr>\n",
       "    <tr>\n",
       "      <th>1</th>\n",
       "      <td>1</td>\n",
       "      <td>0</td>\n",
       "      <td>Nivea, Soft, Krem do twarzy i ciała (nowa wersja)</td>\n",
       "      <td>Nivea</td>\n",
       "      <td>testujeasik</td>\n",
       "      <td>2021-07-17</td>\n",
       "      <td>4</td>\n",
       "      <td>Lubię za uniwersalność</td>\n",
       "      <td>Znacie to uczucie jak testujecie kilka produkt...</td>\n",
       "      <td>Cena \\r\\nPojemność</td>\n",
       "      <td>NaN</td>\n",
       "    </tr>\n",
       "    <tr>\n",
       "      <th>2</th>\n",
       "      <td>2</td>\n",
       "      <td>0</td>\n",
       "      <td>Nivea, Soft, Krem do twarzy i ciała (nowa wersja)</td>\n",
       "      <td>Nivea</td>\n",
       "      <td>martynaq1995</td>\n",
       "      <td>2021-06-30</td>\n",
       "      <td>5</td>\n",
       "      <td>Soft !</td>\n",
       "      <td>Jest to krem bardzo uniwersalny. Mogą go stoso...</td>\n",
       "      <td>-Zapach \\r\\n-konsystencja \\r\\n-wydajność \\r\\n...</td>\n",
       "      <td>-skład</td>\n",
       "    </tr>\n",
       "    <tr>\n",
       "      <th>3</th>\n",
       "      <td>3</td>\n",
       "      <td>0</td>\n",
       "      <td>Nivea, Soft, Krem do twarzy i ciała (nowa wersja)</td>\n",
       "      <td>Nivea</td>\n",
       "      <td>Refleksja81</td>\n",
       "      <td>2021-06-19</td>\n",
       "      <td>5</td>\n",
       "      <td>Klasyk, bez którego nie wyobrażam sobie sezonu...</td>\n",
       "      <td>To kosmetyk, do którego z przyjemnością wracam...</td>\n",
       "      <td>NaN</td>\n",
       "      <td>NaN</td>\n",
       "    </tr>\n",
       "    <tr>\n",
       "      <th>4</th>\n",
       "      <td>4</td>\n",
       "      <td>0</td>\n",
       "      <td>Nivea, Soft, Krem do twarzy i ciała (nowa wersja)</td>\n",
       "      <td>Nivea</td>\n",
       "      <td>alboco</td>\n",
       "      <td>2021-06-14</td>\n",
       "      <td>5</td>\n",
       "      <td>Dobrze nawilża</td>\n",
       "      <td>Produkt w zasadzie dość podobny do klasycznej ...</td>\n",
       "      <td>wielofunkcyjność \\r\\ndostępność \\r\\nduża poje...</td>\n",
       "      <td>NaN</td>\n",
       "    </tr>\n",
       "    <tr>\n",
       "      <th>...</th>\n",
       "      <td>...</td>\n",
       "      <td>...</td>\n",
       "      <td>...</td>\n",
       "      <td>...</td>\n",
       "      <td>...</td>\n",
       "      <td>...</td>\n",
       "      <td>...</td>\n",
       "      <td>...</td>\n",
       "      <td>...</td>\n",
       "      <td>...</td>\n",
       "      <td>...</td>\n",
       "    </tr>\n",
       "    <tr>\n",
       "      <th>67507</th>\n",
       "      <td>67513</td>\n",
       "      <td>4404</td>\n",
       "      <td>A-Derma, Dermalibour + Barrier Creme Protectri...</td>\n",
       "      <td>A-Derma</td>\n",
       "      <td>only_truth</td>\n",
       "      <td>2020-12-30</td>\n",
       "      <td>1</td>\n",
       "      <td>Nie spełnia swojej funkcji, ani jednej</td>\n",
       "      <td>Krem ten miał być ochronnym, przed mrozem, wia...</td>\n",
       "      <td>brak</td>\n",
       "      <td>- zbyt wygórowana cena \\r\\n- zapycha pory \\r\\...</td>\n",
       "    </tr>\n",
       "    <tr>\n",
       "      <th>67508</th>\n",
       "      <td>67514</td>\n",
       "      <td>4405</td>\n",
       "      <td>AA, Enjoy Nature, Wzmacniający krem łagodzący ...</td>\n",
       "      <td>AA</td>\n",
       "      <td>werkakaka</td>\n",
       "      <td>2021-07-15</td>\n",
       "      <td>1</td>\n",
       "      <td>TOTALNY Zapychacz</td>\n",
       "      <td>nie polecajka\\n\\r\\nRaz chciałam kupić coś tańs...</td>\n",
       "      <td>NaN</td>\n",
       "      <td>NaN</td>\n",
       "    </tr>\n",
       "    <tr>\n",
       "      <th>67509</th>\n",
       "      <td>67515</td>\n",
       "      <td>4406</td>\n",
       "      <td>Nivelazione, Color Skin Help Whitening Cream (...</td>\n",
       "      <td>Nivelazione</td>\n",
       "      <td>_inga</td>\n",
       "      <td>2021-08-01</td>\n",
       "      <td>1</td>\n",
       "      <td>Krem wybielający przebarwienia i piegi, Nivela...</td>\n",
       "      <td>Krem kupiłam na jednej z aukcji internetowych\\...</td>\n",
       "      <td>- konsystencja \\r\\n- nie uczula, nie podrażni...</td>\n",
       "      <td>- brak zauważalnego efektu wybielania przebar...</td>\n",
       "    </tr>\n",
       "    <tr>\n",
       "      <th>67510</th>\n",
       "      <td>67516</td>\n",
       "      <td>4407</td>\n",
       "      <td>Ingrid Cosmetics, Rejuvenating Pumpkin Cream (...</td>\n",
       "      <td>Ingrid Cosmetics</td>\n",
       "      <td>Greenpath</td>\n",
       "      <td>2021-07-09</td>\n",
       "      <td>1</td>\n",
       "      <td>Ingrid odmładzający krem do twarzy z dynią 97%...</td>\n",
       "      <td>Hmm specjalnie założyłam konto,aby dodać opini...</td>\n",
       "      <td>Opakowanie \\r\\nZapach ok</td>\n",
       "      <td>Skład kremu niby 97% pochodzenia naturalnego ...</td>\n",
       "    </tr>\n",
       "    <tr>\n",
       "      <th>67511</th>\n",
       "      <td>67517</td>\n",
       "      <td>4408</td>\n",
       "      <td>Yasumi, Me Rose Genotyp C , Face Cream (Upięks...</td>\n",
       "      <td>Yasumi</td>\n",
       "      <td>Gabyyy</td>\n",
       "      <td>2021-07-19</td>\n",
       "      <td>1</td>\n",
       "      <td>Nie robi nic</td>\n",
       "      <td>Kupiłam krem zachęcona promocją w hebe, był za...</td>\n",
       "      <td>NaN</td>\n",
       "      <td>NaN</td>\n",
       "    </tr>\n",
       "  </tbody>\n",
       "</table>\n",
       "<p>67512 rows × 11 columns</p>\n",
       "</div>"
      ],
      "text/plain": [
       "       review_id  product_id  \\\n",
       "0              0           0   \n",
       "1              1           0   \n",
       "2              2           0   \n",
       "3              3           0   \n",
       "4              4           0   \n",
       "...          ...         ...   \n",
       "67507      67513        4404   \n",
       "67508      67514        4405   \n",
       "67509      67515        4406   \n",
       "67510      67516        4407   \n",
       "67511      67517        4408   \n",
       "\n",
       "                                            product_name             brand  \\\n",
       "0      Nivea, Soft, Krem do twarzy i ciała (nowa wersja)             Nivea   \n",
       "1      Nivea, Soft, Krem do twarzy i ciała (nowa wersja)             Nivea   \n",
       "2      Nivea, Soft, Krem do twarzy i ciała (nowa wersja)             Nivea   \n",
       "3      Nivea, Soft, Krem do twarzy i ciała (nowa wersja)             Nivea   \n",
       "4      Nivea, Soft, Krem do twarzy i ciała (nowa wersja)             Nivea   \n",
       "...                                                  ...               ...   \n",
       "67507  A-Derma, Dermalibour + Barrier Creme Protectri...           A-Derma   \n",
       "67508  AA, Enjoy Nature, Wzmacniający krem łagodzący ...                AA   \n",
       "67509  Nivelazione, Color Skin Help Whitening Cream (...       Nivelazione   \n",
       "67510  Ingrid Cosmetics, Rejuvenating Pumpkin Cream (...  Ingrid Cosmetics   \n",
       "67511  Yasumi, Me Rose Genotyp C , Face Cream (Upięks...            Yasumi   \n",
       "\n",
       "               user        date  grade  \\\n",
       "0         Beata_Ewa  2021-08-19      4   \n",
       "1       testujeasik  2021-07-17      4   \n",
       "2      martynaq1995  2021-06-30      5   \n",
       "3       Refleksja81  2021-06-19      5   \n",
       "4            alboco  2021-06-14      5   \n",
       "...             ...         ...    ...   \n",
       "67507    only_truth  2020-12-30      1   \n",
       "67508     werkakaka  2021-07-15      1   \n",
       "67509         _inga  2021-08-01      1   \n",
       "67510     Greenpath  2021-07-09      1   \n",
       "67511        Gabyyy  2021-07-19      1   \n",
       "\n",
       "                                            review_title  \\\n",
       "0                                             Krem Nivea   \n",
       "1                                 Lubię za uniwersalność   \n",
       "2                                                 Soft !   \n",
       "3      Klasyk, bez którego nie wyobrażam sobie sezonu...   \n",
       "4                                         Dobrze nawilża   \n",
       "...                                                  ...   \n",
       "67507             Nie spełnia swojej funkcji, ani jednej   \n",
       "67508                                  TOTALNY Zapychacz   \n",
       "67509  Krem wybielający przebarwienia i piegi, Nivela...   \n",
       "67510  Ingrid odmładzający krem do twarzy z dynią 97%...   \n",
       "67511                                       Nie robi nic   \n",
       "\n",
       "                                             review_body  \\\n",
       "0      + ładny zapach\\n\\r\\n+ nawilżenie\\n\\r\\n+ korzys...   \n",
       "1      Znacie to uczucie jak testujecie kilka produkt...   \n",
       "2      Jest to krem bardzo uniwersalny. Mogą go stoso...   \n",
       "3      To kosmetyk, do którego z przyjemnością wracam...   \n",
       "4      Produkt w zasadzie dość podobny do klasycznej ...   \n",
       "...                                                  ...   \n",
       "67507  Krem ten miał być ochronnym, przed mrozem, wia...   \n",
       "67508  nie polecajka\\n\\r\\nRaz chciałam kupić coś tańs...   \n",
       "67509  Krem kupiłam na jednej z aukcji internetowych\\...   \n",
       "67510  Hmm specjalnie założyłam konto,aby dodać opini...   \n",
       "67511  Kupiłam krem zachęcona promocją w hebe, był za...   \n",
       "\n",
       "                                             review_pros  \\\n",
       "0                                                    NaN   \n",
       "1                                     Cena \\r\\nPojemność   \n",
       "2       -Zapach \\r\\n-konsystencja \\r\\n-wydajność \\r\\n...   \n",
       "3                                                    NaN   \n",
       "4       wielofunkcyjność \\r\\ndostępność \\r\\nduża poje...   \n",
       "...                                                  ...   \n",
       "67507                                               brak   \n",
       "67508                                                NaN   \n",
       "67509   - konsystencja \\r\\n- nie uczula, nie podrażni...   \n",
       "67510                           Opakowanie \\r\\nZapach ok   \n",
       "67511                                                NaN   \n",
       "\n",
       "                                             review_cons  \n",
       "0                                                    NaN  \n",
       "1                                                    NaN  \n",
       "2                                                 -skład  \n",
       "3                                                    NaN  \n",
       "4                                                    NaN  \n",
       "...                                                  ...  \n",
       "67507   - zbyt wygórowana cena \\r\\n- zapycha pory \\r\\...  \n",
       "67508                                                NaN  \n",
       "67509   - brak zauważalnego efektu wybielania przebar...  \n",
       "67510   Skład kremu niby 97% pochodzenia naturalnego ...  \n",
       "67511                                                NaN  \n",
       "\n",
       "[67512 rows x 11 columns]"
      ]
     },
     "execution_count": 2,
     "metadata": {},
     "output_type": "execute_result"
    }
   ],
   "source": [
    "reviews_df = pd.read_excel('data/reviews_full_df.xlsx')\n",
    "reviews_df"
   ]
  },
  {
   "cell_type": "markdown",
   "metadata": {},
   "source": [
    "Unfortunately, classes in the full dataset are unbalanced. The highest grade makes up over 55% of all observations, while each of grades 1 and 2 constitute around 6%. Therefore, I applied undersampling of the data. I also aggregated grades 1-5 into 3 classes: negative (labeled as 0): 1, 2; neutral (1): 3 and positive (2): 4, 5. The resampled dataset constains 22,365 reviews (7,455 reviews per class)."
   ]
  },
  {
   "cell_type": "code",
   "execution_count": 3,
   "metadata": {},
   "outputs": [
    {
     "data": {
      "text/html": [
       "<div>\n",
       "<style scoped>\n",
       "    .dataframe tbody tr th:only-of-type {\n",
       "        vertical-align: middle;\n",
       "    }\n",
       "\n",
       "    .dataframe tbody tr th {\n",
       "        vertical-align: top;\n",
       "    }\n",
       "\n",
       "    .dataframe thead th {\n",
       "        text-align: right;\n",
       "    }\n",
       "</style>\n",
       "<table border=\"1\" class=\"dataframe\">\n",
       "  <thead>\n",
       "    <tr style=\"text-align: right;\">\n",
       "      <th></th>\n",
       "      <th>number_of_reviews</th>\n",
       "      <th>share</th>\n",
       "    </tr>\n",
       "  </thead>\n",
       "  <tbody>\n",
       "    <tr>\n",
       "      <th>1</th>\n",
       "      <td>3820</td>\n",
       "      <td>0.056583</td>\n",
       "    </tr>\n",
       "    <tr>\n",
       "      <th>2</th>\n",
       "      <td>4339</td>\n",
       "      <td>0.064270</td>\n",
       "    </tr>\n",
       "    <tr>\n",
       "      <th>3</th>\n",
       "      <td>7455</td>\n",
       "      <td>0.110425</td>\n",
       "    </tr>\n",
       "    <tr>\n",
       "      <th>4</th>\n",
       "      <td>14670</td>\n",
       "      <td>0.217295</td>\n",
       "    </tr>\n",
       "    <tr>\n",
       "      <th>5</th>\n",
       "      <td>37228</td>\n",
       "      <td>0.551428</td>\n",
       "    </tr>\n",
       "  </tbody>\n",
       "</table>\n",
       "</div>"
      ],
      "text/plain": [
       "   number_of_reviews     share\n",
       "1               3820  0.056583\n",
       "2               4339  0.064270\n",
       "3               7455  0.110425\n",
       "4              14670  0.217295\n",
       "5              37228  0.551428"
      ]
     },
     "execution_count": 3,
     "metadata": {},
     "output_type": "execute_result"
    }
   ],
   "source": [
    "grades_summary = pd.DataFrame({'number_of_reviews': reviews_df['grade'].value_counts(sort=False)})\n",
    "grades_summary['share'] = grades_summary['number_of_reviews']/grades_summary['number_of_reviews'].sum()\n",
    "grades_summary"
   ]
  },
  {
   "cell_type": "code",
   "execution_count": 4,
   "metadata": {},
   "outputs": [
    {
     "data": {
      "text/plain": [
       "array([2, 2, 2, ..., 0, 0, 0])"
      ]
     },
     "execution_count": 4,
     "metadata": {},
     "output_type": "execute_result"
    }
   ],
   "source": [
    "grades_mapping = {1:0, 2:0, 3:1, 4:2, 5:2}\n",
    "grades = np.array([grades_mapping.get(x) for x in reviews_df['grade']])\n",
    "grades"
   ]
  },
  {
   "cell_type": "code",
   "execution_count": 5,
   "metadata": {
    "scrolled": false
   },
   "outputs": [
    {
     "name": "stdout",
     "output_type": "stream",
     "text": [
      "(array([0, 1, 2]), array([7455, 7455, 7455], dtype=int64))\n",
      "Length of resampled dataset: 22365\n"
     ]
    }
   ],
   "source": [
    "reviews_columns = ['review_title', 'review_body', 'review_pros', 'review_cons']\n",
    "reviews_df[reviews_columns] = reviews_df[reviews_columns].fillna('')\n",
    "reviews = reviews_df[reviews_columns].values\n",
    "\n",
    "rus = RandomUnderSampler(random_state=rs)\n",
    "reviews_resampled, grades_resampled = rus.fit_resample(reviews, grades)\n",
    "\n",
    "print(np.unique(grades_resampled, return_counts=True))\n",
    "print(f'Length of resampled dataset: {len(grades_resampled)}')"
   ]
  },
  {
   "cell_type": "code",
   "execution_count": 6,
   "metadata": {},
   "outputs": [],
   "source": [
    "grades_resampled = list(grades_resampled)\n",
    "reviews_resampled  = [list(reviews_resampled[i]) for i in range(len(reviews_resampled))]"
   ]
  },
  {
   "cell_type": "markdown",
   "metadata": {},
   "source": [
    "## 4. Text cleaning <a class=\"anchor\" id=\"chapter4\"></a>"
   ]
  },
  {
   "cell_type": "markdown",
   "metadata": {},
   "source": [
    "The data need to be cleaned before modelling. One of the challanges related to analysis of reviews are frequent typing errors. This problem is exacerbated in the case of Polish language due to presence of native characters, which are often replaced with their non-native equivalents (e.g. 'e' is often used instead of 'ę'). In the first step, I used methods available in `LanguageTool` class from `language_tool_python` package, which enabled me to correct errors of this type."
   ]
  },
  {
   "cell_type": "code",
   "execution_count": 9,
   "metadata": {
    "scrolled": true
   },
   "outputs": [
    {
     "data": {
      "text/plain": [
       "[['co to jest?',\n",
       "  'Dużo recenzentek chwali ten krem, a dla mnie on nic nie wnosi. Po prostu skóra zachowuje się biernie wobec niego. Nie widzę poprawy, może nawet się pogorszyła jak go używałam. Bardziej się przetłuszczała. Nic dobrego nie wnosił do mojej pielęgnacji. Chyba wolę wydać więcej kasy na inny krem, który zadziała.\\n\\n\\n\\nUżywam tego produktu od: 3 miesięcy (przestałam regularnie bo i tak nic nie daje)\\n\\nIlość zużytych opakowań: 1 w trakcie',\n",
       "  '',\n",
       "  ''],\n",
       " ['kleista porażka',\n",
       "  'Osobiście mam problem z tym produktem - nałożenie niewielkiej ilości skutkuje niewystarczającym nawilżeniem; nałożenie konkretnej warstwy nawilża, jednak krem nie wchłania się wtedy wystarczająco. Nawet jeśli mam czas poczekać, aż wszystko wyschnie krem klei się na twarzy i bardzo mocno błyszczy.',\n",
       "  ' nawilża',\n",
       "  ' kleista formuła \\r\\nmocno się błyszczy \\r\\nnie nadaje się pod makijaż'],\n",
       " ['Dramat',\n",
       "  'Kupiłam ten krem podczas promocji w SuperPharm za 9 zł, po wielu zachwalaniach pan sprzedajacych.\\n\\nJeszcze nigdy po zadnym kremie mnie tak nie wysypalo jak po tym. Uzywalam okolo miesiaca zeby dac mu szanse, niestety moja cera bardzo go nie polubila.\\n\\n\\n\\nUżywam tego produktu od: miesiąca\\n\\nIlość zużytych opakowań: pół',\n",
       "  '',\n",
       "  '']]"
      ]
     },
     "execution_count": 9,
     "metadata": {},
     "output_type": "execute_result"
    }
   ],
   "source": [
    "reviews_resampled[:3]"
   ]
  },
  {
   "cell_type": "code",
   "execution_count": 10,
   "metadata": {},
   "outputs": [
    {
     "data": {
      "text/plain": [
       "[['Co to jest?',\n",
       "  'Dużo recenzentek chwali ten krem, a dla mnie on nic nie wnosi. Po prostu skóra zachowuje się biernie wobec niego. Nie widzę poprawy, może nawet się pogorszyła jak go używałam. Bardziej się przetłuszczała. Nic dobrego nie wnosił do mojej pielęgnacji. Chyba wolę wydać więcej kasy na inny krem, który zadziała.\\n\\n\\n\\nUżywam tego produktu od: 3 miesięcy (przestałam regularnie, bo i tak nic nie daje)\\n\\nIlość zużytych opakowań: 1 w trakcie',\n",
       "  '',\n",
       "  ''],\n",
       " ['Kleista porażka',\n",
       "  'Osobiście mam problem z tym produktem-nałożenie niewielkiej ilości skutkuje niewystarczającym nawilżeniem; nałożenie konkretnej warstwy nawilża, jednak krem nie wchłania się wtedy wystarczająco. Nawet jeśli mam czas poczekać, aż wszystko wyschnie krem klei się na twarzy i bardzo mocno błyszczy.',\n",
       "  ' Nawilża',\n",
       "  ' Kleista formuła \\r\\nmocno się błyszczy \\r\\nnie nadaje się pod makijaż'],\n",
       " ['Dramat',\n",
       "  'Kupiłam ten krem podczas promocji w SuperPharm za 9 zł, po wielu zachwalaniach pan sprzedających.\\n\\nJeszcze nigdy po żadnym kremie mnie tak nie wysypało, jak po tym. Używałam około miesiąca żeby dać mu szanse, niestety moja cera bardzo go nie polubiła.\\n\\n\\n\\nUżywam tego produktu od: miesiąca\\n\\nIlość zużytych opakowań: pół',\n",
       "  '',\n",
       "  '']]"
      ]
     },
     "execution_count": 10,
     "metadata": {},
     "output_type": "execute_result"
    }
   ],
   "source": [
    "tool = language_tool_python.LanguageTool('pl')\n",
    "\n",
    "def correct_spelling_mistakes(text, tool):\n",
    "    matches = tool.check(text)\n",
    "    result = language_tool_python.utils.correct(text, matches)\n",
    "    return result\n",
    "\n",
    "reviews_resampled = [[correct_spelling_mistakes(section, tool) for section in review] for review in reviews_resampled]\n",
    "reviews_resampled[:3]"
   ]
  },
  {
   "cell_type": "code",
   "execution_count": 11,
   "metadata": {},
   "outputs": [],
   "source": [
    "# pickle.dump(reviews_resampled, open('data/reviews_resampled_text_corrected.pkl', 'wb'))\n",
    "# reviews_resampled = pickle.load(open('data/reviews_resampled_text_corrected.pkl', 'rb'))"
   ]
  },
  {
   "cell_type": "markdown",
   "metadata": {},
   "source": [
    "Secondly, I carried out basic text cleaning, which included, i.a., transformation into lower case, deletion of multiple spaces and dots as well as special chcaracters (incl. emojis) and tokenization."
   ]
  },
  {
   "cell_type": "code",
   "execution_count": 12,
   "metadata": {},
   "outputs": [
    {
     "data": {
      "text/plain": [
       "[['co to jest?',\n",
       "  'dużo recenzentek chwali ten krem, a dla mnie on nic nie wnosi. po prostu skóra zachowuje się biernie wobec niego. nie widzę poprawy, może nawet się pogorszyła jak go używałam. bardziej się przetłuszczała. nic dobrego nie wnosił do mojej pielęgnacji. chyba wolę wydać więcej kasy na inny krem, który zadziała. używam tego produktu od: miesięcy (przestałam regularnie, bo i tak nic nie daje) ilość zużytych opakowań: w trakcie',\n",
       "  '',\n",
       "  ''],\n",
       " ['kleista porażka',\n",
       "  'osobiście mam problem z tym produktem-nałożenie niewielkiej ilości skutkuje niewystarczającym nawilżeniem; nałożenie konkretnej warstwy nawilża, jednak krem nie wchłania się wtedy wystarczająco. nawet jeśli mam czas poczekać, aż wszystko wyschnie krem klei się na twarzy i bardzo mocno błyszczy.',\n",
       "  ' nawilża',\n",
       "  ' kleista formuła mocno się błyszczy nie nadaje się pod makijaż'],\n",
       " ['dramat',\n",
       "  'kupiłam ten krem podczas promocji w superpharm za zł, po wielu zachwalaniach pan sprzedających. jeszcze nigdy po żadnym kremie mnie tak nie wysypało, jak po tym. używałam około miesiąca żeby dać mu szanse, niestety moja cera bardzo go nie polubiła. używam tego produktu od: miesiąca ilość zużytych opakowań: pół',\n",
       "  '',\n",
       "  '']]"
      ]
     },
     "execution_count": 12,
     "metadata": {},
     "output_type": "execute_result"
    }
   ],
   "source": [
    "reviews_resampled = [[section.lower() for section in review] for review in reviews_resampled]\n",
    "reviews_resampled = [[re.sub('\\n',' ',  section) for section in review] for review in reviews_resampled]\n",
    "reviews_resampled = [[re.sub('\\r',' ',  section) for section in review] for review in reviews_resampled]\n",
    "reviews_resampled = [[re.sub(r'\\\\',' ', section) for section in review] for review in reviews_resampled]\n",
    "reviews_resampled = [[re.sub('/',' ', section) for section in review] for review in reviews_resampled]\n",
    "reviews_resampled = [[re.sub('\\d',' ', section) for section in review] for review in reviews_resampled]\n",
    "reviews_resampled = [[re.sub('\\.{2,}','.', section) for section in review] for review in reviews_resampled]\n",
    "reviews_resampled = [[re.sub('\\s{2,}',' ', section) for section in review] for review in reviews_resampled]\n",
    "reviews_resampled = [[re.sub('[•–‚…]', '', section) for section in review] for review in reviews_resampled]\n",
    "reviews_resampled = [[re.sub('(?<=[.,])(?=[^\\s])', ' ', section) for section in review] for review in reviews_resampled]\n",
    "reviews_resampled = [[re.sub(u'\\\\u200b','', section) for section in review] for review in reviews_resampled]\n",
    "\n",
    "emoji_pattern = re.compile('['\n",
    "                           u'\\U0001F600-\\U0001F64F'  \n",
    "                           u'\\U0001F300-\\U0001F5FF'  \n",
    "                           u'\\U0001F680-\\U0001F6FF'  \n",
    "                           u'\\U0001F1E0-\\U0001F1FF'  \n",
    "                           u'\\U00002702-\\U000027B0'\n",
    "                           u'\\U000024C2-\\U0001F251'\n",
    "                           ']+', flags=re.UNICODE)\n",
    "reviews_resampled = [[emoji_pattern.sub(r'', section) for section in review] for review in reviews_resampled]\n",
    "\n",
    "reviews_resampled[:3]"
   ]
  },
  {
   "cell_type": "code",
   "execution_count": 13,
   "metadata": {},
   "outputs": [
    {
     "name": "stdout",
     "output_type": "stream",
     "text": [
      "[[['co', 'to', 'jest', '?'], ['dużo', 'recenzentek', 'chwali', 'ten', 'krem', ',', 'a', 'dla', 'mnie', 'on', 'nic', 'nie', 'wnosi', '.', 'po', 'prostu', 'skóra', 'zachowuje', 'się', 'biernie', 'wobec', 'niego', '.', 'nie', 'widzę', 'poprawy', ',', 'może', 'nawet', 'się', 'pogorszyła', 'jak', 'go', 'używałam', '.', 'bardziej', 'się', 'przetłuszczała', '.', 'nic', 'dobrego', 'nie', 'wnosił', 'do', 'mojej', 'pielęgnacji', '.', 'chyba', 'wolę', 'wydać', 'więcej', 'kasy', 'na', 'inny', 'krem', ',', 'który', 'zadziała', '.', 'używam', 'tego', 'produktu', 'od', ':', 'miesięcy', '(', 'przestałam', 'regularnie', ',', 'bo', 'i', 'tak', 'nic', 'nie', 'daje', ')', 'ilość', 'zużytych', 'opakowań', ':', 'w', 'trakcie'], [], []], [['kleista', 'porażka'], ['osobiście', 'mam', 'problem', 'z', 'tym', 'produktem-nałożenie', 'niewielkiej', 'ilości', 'skutkuje', 'niewystarczającym', 'nawilżeniem', ';', 'nałożenie', 'konkretnej', 'warstwy', 'nawilża', ',', 'jednak', 'krem', 'nie', 'wchłania', 'się', 'wtedy', 'wystarczająco', '.', 'nawet', 'jeśli', 'mam', 'czas', 'poczekać', ',', 'aż', 'wszystko', 'wyschnie', 'krem', 'klei', 'się', 'na', 'twarzy', 'i', 'bardzo', 'mocno', 'błyszczy', '.'], ['nawilża'], ['kleista', 'formuła', 'mocno', 'się', 'błyszczy', 'nie', 'nadaje', 'się', 'pod', 'makijaż']], [['dramat'], ['kupiłam', 'ten', 'krem', 'podczas', 'promocji', 'w', 'superpharm', 'za', 'zł', ',', 'po', 'wielu', 'zachwalaniach', 'pan', 'sprzedających', '.', 'jeszcze', 'nigdy', 'po', 'żadnym', 'kremie', 'mnie', 'tak', 'nie', 'wysypało', ',', 'jak', 'po', 'tym', '.', 'używałam', 'około', 'miesiąca', 'żeby', 'dać', 'mu', 'szanse', ',', 'niestety', 'moja', 'cera', 'bardzo', 'go', 'nie', 'polubiła', '.', 'używam', 'tego', 'produktu', 'od', ':', 'miesiąca', 'ilość', 'zużytych', 'opakowań', ':', 'pół'], [], []]]\n"
     ]
    }
   ],
   "source": [
    "reviews_resampled = [[word_tokenize(section) for section in review] for review in reviews_resampled]\n",
    "print(reviews_resampled[:3])"
   ]
  },
  {
   "cell_type": "markdown",
   "metadata": {},
   "source": [
    "Third, I removed tokens that are punctuation marks and stripped tokens of punctuation marks (as users often write reviews in the form of bullets of various types). I also removed tokens of length below 3. One exception is 'nie' (*ang. no, not*), which was replaced with a special tag in order to handle negations in the analysis."
   ]
  },
  {
   "cell_type": "code",
   "execution_count": 14,
   "metadata": {},
   "outputs": [
    {
     "name": "stdout",
     "output_type": "stream",
     "text": [
      "[[['jest'], ['dużo', 'recenzentek', 'chwali', 'krem', 'mnie', '_nie_', 'wnosi', 'prostu', 'skóra', 'zachowuje', 'biernie', 'wobec', 'niego', '_nie_', 'widzę', 'poprawy', 'może', 'nawet', 'pogorszyła', 'używałam', 'bardziej', 'przetłuszczała', 'dobrego', '_nie_', 'wnosił', 'mojej', 'pielęgnacji', 'chyba', 'wolę', 'wydać', 'więcej', 'kasy', 'inny', 'krem', 'który', 'zadziała', 'używam', 'tego', 'produktu', 'miesięcy', 'przestałam', 'regularnie', '_nie_', 'daje', 'ilość', 'zużytych', 'opakowań', 'trakcie'], [], []], [['kleista', 'porażka'], ['osobiście', 'problem', 'produktem-nałożenie', 'niewielkiej', 'ilości', 'skutkuje', 'niewystarczającym', 'nawilżeniem', 'nałożenie', 'konkretnej', 'warstwy', 'nawilża', 'jednak', 'krem', '_nie_', 'wchłania', 'wtedy', 'wystarczająco', 'nawet', 'jeśli', 'czas', 'poczekać', 'wszystko', 'wyschnie', 'krem', 'klei', 'twarzy', 'bardzo', 'mocno', 'błyszczy'], ['nawilża'], ['kleista', 'formuła', 'mocno', 'błyszczy', '_nie_', 'nadaje', 'makijaż']], [['dramat'], ['kupiłam', 'krem', 'podczas', 'promocji', 'superpharm', 'wielu', 'zachwalaniach', 'sprzedających', 'jeszcze', 'nigdy', 'żadnym', 'kremie', 'mnie', '_nie_', 'wysypało', 'używałam', 'około', 'miesiąca', 'żeby', 'szanse', 'niestety', 'moja', 'cera', 'bardzo', '_nie_', 'polubiła', 'używam', 'tego', 'produktu', 'miesiąca', 'ilość', 'zużytych', 'opakowań'], [], []]]\n"
     ]
    }
   ],
   "source": [
    "reviews_resampled = [[[token for token in section if token not in string.punctuation] \\\n",
    "                      for section in review] \\\n",
    "                         for review in reviews_resampled]\n",
    "reviews_resampled = [[[token.strip(string.punctuation) for token in section] \\\n",
    "                      for section in review] \\\n",
    "                         for review in reviews_resampled]\n",
    "reviews_resampled = [[['_nie_' if token=='nie' else token for token in section] \\\n",
    "                      for section in review] \\\n",
    "                         for review in reviews_resampled]\n",
    "reviews_resampled = [[[token for token in section if len(token)>3] \\\n",
    "                      for section in review]  \\\n",
    "                     for review in reviews_resampled]\n",
    "print(reviews_resampled[:3])"
   ]
  },
  {
   "cell_type": "markdown",
   "metadata": {},
   "source": [
    "Forth, I lemmatized the tokens. For this purpose, I used SJP. It is a Polish dictionary, which can be downloaded [here](https://sjp.pl/slownik/odmiany/)."
   ]
  },
  {
   "cell_type": "code",
   "execution_count": 15,
   "metadata": {
    "scrolled": true
   },
   "outputs": [
    {
     "name": "stdout",
     "output_type": "stream",
     "text": [
      "[[['być'], ['duży', 'recenzentka', 'chwalić', 'krem', 'miąć', '_nie_', 'wnosić', 'prostu', 'skóra', 'zachowywać', 'bierny', 'wobec', 'on', '_nie_', 'widzieć', 'poprawa', 'móc', 'nawet', 'pogorszyć', 'używać', 'bardziej', 'przetłuszczać', 'dobry', '_nie_', 'wnosić', 'mój', 'pielęgnacja', 'chyba', 'woleć', 'wydać', 'więcej', 'kasa', 'inny', 'krem', 'który', 'zadziałać', 'używać', 'ten', 'produkt', 'miesiąc', 'przestać', 'regularny', '_nie_', 'dawać', 'ilość', 'zużyty', 'opakowanie', 'trakt'], [], []], [['kleisty', 'porażka'], ['osobisty', 'problem', 'produktem-nałożenie', 'wielki', 'ilość', 'skutkować', 'wystarczający', 'nawilżyć', 'nałożyć', 'konkretny', 'warstwa', 'nawilżać', 'jednak', 'krem', '_nie_', 'wchłaniać', 'wtedy', 'wystarczający', 'nawet', 'jeśli', 'czas', 'poczekać', 'wszystek', 'wyschnąć', 'krem', 'kleić', 'twarz', 'bardzo', 'mocny', 'błyszczeć'], ['nawilżać'], ['kleisty', 'formuła', 'mocny', 'błyszczeć', '_nie_', 'nadawać', 'makijaż']], [['dramat'], ['kupić', 'krem', 'podczas', 'promocja', 'superpharm', 'wiele', 'zachwalać', 'sprzedawać', 'jeszcze', 'nigdy', 'żaden', 'krem', 'miąć', '_nie_', 'wysypać', 'używać', 'około', 'miesiąc', 'żeby', 'szansa', 'niestety', 'mój', 'cera', 'bardzo', '_nie_', 'polubić', 'używać', 'ten', 'produkt', 'miesiąc', 'ilość', 'zużyty', 'opakowanie'], [], []]]\n"
     ]
    }
   ],
   "source": [
    "dictionary = {}\n",
    "\n",
    "with open('lemmatizer/odm.txt', newline='\\n', encoding='UTF-8') as csvfile:\n",
    "    reader = csv.reader(csvfile, delimiter = ',')\n",
    "    reader = [[word.strip().lower() for word in row] for row in reader]\n",
    "    for row in reader:\n",
    "        if len(row) > 1:\n",
    "            base, *sec = row\n",
    "            for s in sec:\n",
    "                dictionary[s] = base\n",
    "\n",
    "def lemmatize(token, dictionary):\n",
    "    return dictionary.get(token, token)\n",
    "\n",
    "reviews_resampled = [[[lemmatize(token, dictionary) for token in section] \\\n",
    "                      for section in review] \\\n",
    "                         for review in reviews_resampled]\n",
    "print(reviews_resampled[:3])"
   ]
  },
  {
   "cell_type": "markdown",
   "metadata": {},
   "source": [
    "Fifth, I removed stop words. For this purpose, I used `stop_words` package, which offers a list of 138 Polish stop words. This step was performed after lemmatization due to the fact that some Polish stop words have several secondary forms (e.g. twój, twojego, twojemu)."
   ]
  },
  {
   "cell_type": "code",
   "execution_count": 16,
   "metadata": {},
   "outputs": [
    {
     "name": "stdout",
     "output_type": "stream",
     "text": [
      "['ach', 'aj', 'albo', 'bardzo', 'bez', 'bo', 'być', 'ci', 'cię', 'ciebie', 'co', 'czy', 'daleko', 'dla', 'dlaczego', 'dlatego', 'do', 'dobrze', 'dokąd', 'dość', 'dużo', 'dwa', 'dwaj', 'dwie', 'dwoje', 'dziś', 'dzisiaj', 'gdyby', 'gdzie', 'go', 'ich', 'ile', 'im', 'inny', 'ja', 'ją', 'jak', 'jakby', 'jaki', 'je', 'jeden', 'jedna', 'jedno', 'jego', 'jej', 'jemu', 'jeśli', 'jest', 'jestem', 'jeżeli', 'już', 'każdy', 'kiedy', 'kierunku', 'kto', 'ku', 'lub', 'ma', 'mają', 'mam', 'mi', 'mną', 'mnie', 'moi', 'mój', 'moja', 'moje', 'może', 'mu', 'my', 'na', 'nam', 'nami', 'nas', 'nasi', 'nasz', 'nasza', 'nasze', 'natychmiast', 'nią', 'nic', 'nich', 'nie', 'niego', 'niej', 'niemu', 'nigdy', 'nim', 'nimi', 'niż', 'obok', 'od', 'około', 'on', 'ona', 'one', 'oni', 'ono', 'owszem', 'po', 'pod', 'ponieważ', 'przed', 'przedtem', 'są', 'sam', 'sama', 'się', 'skąd', 'tak', 'taki', 'tam', 'ten', 'to', 'tobą', 'tobie', 'tu', 'tutaj', 'twoi', 'twój', 'twoja', 'twoje', 'ty', 'wam', 'wami', 'was', 'wasi', 'wasz', 'wasza', 'wasze', 'we', 'więc', 'wszystko', 'wtedy', 'wy', 'żaden', 'zawsze', 'że']\n"
     ]
    }
   ],
   "source": [
    "stop_words = get_stop_words('pl')\n",
    "print(stop_words)"
   ]
  },
  {
   "cell_type": "code",
   "execution_count": 17,
   "metadata": {},
   "outputs": [
    {
     "name": "stdout",
     "output_type": "stream",
     "text": [
      "[[[], ['duży', 'recenzentka', 'chwalić', 'krem', 'miąć', '_nie_', 'wnosić', 'prostu', 'skóra', 'zachowywać', 'bierny', 'wobec', '_nie_', 'widzieć', 'poprawa', 'móc', 'nawet', 'pogorszyć', 'używać', 'bardziej', 'przetłuszczać', 'dobry', '_nie_', 'wnosić', 'pielęgnacja', 'chyba', 'woleć', 'wydać', 'więcej', 'kasa', 'krem', 'który', 'zadziałać', 'używać', 'produkt', 'miesiąc', 'przestać', 'regularny', '_nie_', 'dawać', 'ilość', 'zużyty', 'opakowanie', 'trakt'], [], []], [['kleisty', 'porażka'], ['osobisty', 'problem', 'produktem-nałożenie', 'wielki', 'ilość', 'skutkować', 'wystarczający', 'nawilżyć', 'nałożyć', 'konkretny', 'warstwa', 'nawilżać', 'jednak', 'krem', '_nie_', 'wchłaniać', 'wystarczający', 'nawet', 'czas', 'poczekać', 'wszystek', 'wyschnąć', 'krem', 'kleić', 'twarz', 'mocny', 'błyszczeć'], ['nawilżać'], ['kleisty', 'formuła', 'mocny', 'błyszczeć', '_nie_', 'nadawać', 'makijaż']], [['dramat'], ['kupić', 'krem', 'podczas', 'promocja', 'superpharm', 'wiele', 'zachwalać', 'sprzedawać', 'jeszcze', 'krem', 'miąć', '_nie_', 'wysypać', 'używać', 'miesiąc', 'żeby', 'szansa', 'niestety', 'cera', '_nie_', 'polubić', 'używać', 'produkt', 'miesiąc', 'ilość', 'zużyty', 'opakowanie'], [], []]]\n"
     ]
    }
   ],
   "source": [
    "reviews_resampled = [[[token for token in section if token not in stop_words] \\\n",
    "                      for section in review] \\\n",
    "                         for review in reviews_resampled]\n",
    "print(reviews_resampled[:3])"
   ]
  },
  {
   "cell_type": "markdown",
   "metadata": {},
   "source": [
    "Finally, I received 35,965 unique tokens. The full list of unique tokens can be found in *data/unique_tokens_df.xlsx*."
   ]
  },
  {
   "cell_type": "code",
   "execution_count": 18,
   "metadata": {
    "scrolled": true
   },
   "outputs": [
    {
     "name": "stdout",
     "output_type": "stream",
     "text": [
      "There are 35965 unique tokens.\n"
     ]
    }
   ],
   "source": [
    "all_tokens = nltk.flatten(reviews_resampled)\n",
    "counter = {}\n",
    "\n",
    "for w in all_tokens:\n",
    "    counter[w] = counter.get(w,0)+1\n",
    "\n",
    "counter = {k: v for k, v in sorted(counter.items(), key=lambda item: item[1], reverse = True)}\n",
    "print(f'There are {len(counter.keys())} unique tokens.')\n",
    "\n",
    "unique_tokens = [k for k in counter.keys()]\n",
    "unique_tokens_sorted = sorted(unique_tokens)\n",
    "counts = [v for v in counter.values()]\n",
    "\n",
    "unique_tokens_df = pd.DataFrame()\n",
    "unique_tokens_df['token'] = unique_tokens\n",
    "unique_tokens_df['count'] = counts\n",
    "unique_tokens_df.to_excel('data/unique_tokens_df.xlsx', encoding = 'utf-8', index=False)"
   ]
  },
  {
   "cell_type": "markdown",
   "metadata": {},
   "source": [
    " The chart below presents the most frequent tokens. They are indeed linked to the subject of cosmetics, e.g. 'krem' (*'cream'*), 'skóra' (*'skin'*), 'twarz' (*'face'*), 'zapach' (*'fragrance'*), 'nawilżać'/'nawilżyć' (*'moisturize'*). However, some of them are pretty neutral, e.g. 'który' (*'which'*), 'móc' (*'can'*), 'mieć' (*'have'*). \n",
    "\n",
    "The chart also suggest some incorrect mappings to base form in the lemmatization step, e.g 'miąć' ('crumple') was probably confused with 'mieć' (*'have'*). This might be caused, i.a., by ambiguity of some words. Nonetheless, this issue will not be approached in the analysis. "
   ]
  },
  {
   "cell_type": "code",
   "execution_count": 19,
   "metadata": {
    "scrolled": true
   },
   "outputs": [
    {
     "data": {
      "image/png": "[encoded data removed]",
      "text/plain": [
       "<Figure size 1440x360 with 1 Axes>"
      ]
     },
     "metadata": {
      "needs_background": "light"
     },
     "output_type": "display_data"
    }
   ],
   "source": [
    "n = 50\n",
    "\n",
    "plt.figure(figsize=(20, 5))\n",
    "plt.bar(x = unique_tokens[:n], height = counts[:n])\n",
    "plt.title(f'Frequency distribution of top {n} tokens')\n",
    "plt.ylabel('Count')\n",
    "plt.xticks(rotation='vertical')\n",
    "plt.show()"
   ]
  },
  {
   "cell_type": "markdown",
   "metadata": {},
   "source": [
    "At the end, I marked tokens from the 'pros and cons' section with special tags. The purpose is to examine the relations between sentiments and appearance of tokens in individual sections of reviews. The tokens from the titles were not distinguished as titles are often integrated with the bodies of reviews."
   ]
  },
  {
   "cell_type": "code",
   "execution_count": 21,
   "metadata": {},
   "outputs": [
    {
     "name": "stdout",
     "output_type": "stream",
     "text": [
      "[['duży', 'recenzentka', 'chwalić', 'krem', 'miąć', '_nie_', 'wnosić', 'prostu', 'skóra', 'zachowywać', 'bierny', 'wobec', '_nie_', 'widzieć', 'poprawa', 'móc', 'nawet', 'pogorszyć', 'używać', 'bardziej', 'przetłuszczać', 'dobry', '_nie_', 'wnosić', 'pielęgnacja', 'chyba', 'woleć', 'wydać', 'więcej', 'kasa', 'krem', 'który', 'zadziałać', 'używać', 'produkt', 'miesiąc', 'przestać', 'regularny', '_nie_', 'dawać', 'ilość', 'zużyty', 'opakowanie', 'trakt'], ['kleisty', 'porażka', 'osobisty', 'problem', 'produktem-nałożenie', 'wielki', 'ilość', 'skutkować', 'wystarczający', 'nawilżyć', 'nałożyć', 'konkretny', 'warstwa', 'nawilżać', 'jednak', 'krem', '_nie_', 'wchłaniać', 'wystarczający', 'nawet', 'czas', 'poczekać', 'wszystek', 'wyschnąć', 'krem', 'kleić', 'twarz', 'mocny', 'błyszczeć', '_pros_nawilżać', '_cons_kleisty', '_cons_formuła', '_cons_mocny', '_cons_błyszczeć', '_cons__nie_', '_cons_nadawać', '_cons_makijaż'], ['dramat', 'kupić', 'krem', 'podczas', 'promocja', 'superpharm', 'wiele', 'zachwalać', 'sprzedawać', 'jeszcze', 'krem', 'miąć', '_nie_', 'wysypać', 'używać', 'miesiąc', 'żeby', 'szansa', 'niestety', 'cera', '_nie_', 'polubić', 'używać', 'produkt', 'miesiąc', 'ilość', 'zużyty', 'opakowanie']]\n"
     ]
    }
   ],
   "source": [
    "reviews_resampled_final = []\n",
    "\n",
    "for review in reviews_resampled:\n",
    "    \n",
    "    pros_tagged = ['_pros_' + token for token in review[2]]\n",
    "    cons_tagged = ['_cons_' + token for token in review[3]]\n",
    "    review_merged = nltk.flatten(review[0], review[1], pros_tagged, cons_tagged)\n",
    "    reviews_resampled_final.append(review_merged)\n",
    "\n",
    "print(reviews_resampled_final[:3])"
   ]
  },
  {
   "cell_type": "code",
   "execution_count": 10,
   "metadata": {},
   "outputs": [],
   "source": [
    "# pickle.dump(reviews_resampled_final, open('data/reviews_resampled_final.pkl', 'wb'))\n",
    "# reviews_resampled_final = pickle.load(open('data/reviews_resampled_final.pkl', 'rb'))"
   ]
  },
  {
   "cell_type": "markdown",
   "metadata": {},
   "source": [
    "## 5. Sentiment analysis <a class=\"anchor\" id=\"chapter5\"></a>"
   ]
  },
  {
   "cell_type": "markdown",
   "metadata": {},
   "source": [
    "Prior to modelling, the data were splitted into train and test dataset. The size of test dataset was set to 20% of observations."
   ]
  },
  {
   "cell_type": "code",
   "execution_count": 11,
   "metadata": {},
   "outputs": [],
   "source": [
    "reviews_resampled_final_joined = [' '.join(review) for review in reviews_resampled_final]\n",
    "X_train, X_test, y_train, y_test = train_test_split(reviews_resampled_final_joined, grades_resampled, test_size = 0.2, \n",
    "                                                    random_state = rs)"
   ]
  },
  {
   "cell_type": "markdown",
   "metadata": {},
   "source": [
    "I included 4 types of models in the analysis: Naive Bayes, logistic regression, random forests and SVM. In the case of logistic regression, I tested several values of inverse of L2 regularization strength. For each model, I used `CountVectorizer` to transform texts into a matrix. In this step, I tested several cut-off points related to minimum and maximum number of occurances of tokens. I also changed default value of `ngram_range` parameter in order to include both individual tokens and combinations of 2 subsequent tokens. Moreover, I allowed reduction of dimensions using `TruncatedSVD` (both reduction into 100 components and no reduction were tested)."
   ]
  },
  {
   "cell_type": "code",
   "execution_count": 10,
   "metadata": {},
   "outputs": [],
   "source": [
    "model_names = ['Naive Bayes', 'Logistic Regression', 'Random Forests', 'SVM']\n",
    "\n",
    "models = [make_pipeline(CountVectorizer(), TruncatedSVD(), BernoulliNB()),\n",
    "          make_pipeline(CountVectorizer(), TruncatedSVD(), LogisticRegression(solver='saga', random_state=rs)),\n",
    "          make_pipeline(CountVectorizer(), TruncatedSVD(), RandomForestClassifier(random_state=rs)),\n",
    "          make_pipeline(CountVectorizer(), TruncatedSVD(), SVC(random_state=rs))\n",
    "         ]\n",
    "\n",
    "param_grids_models = [ {},\n",
    "    \n",
    "                      [{'logisticregression__penalty': ['none']},\n",
    "                       {'logisticregression__C': [0.001, 0.01, 0.1, 10],\n",
    "                        'logisticregression__penalty': ['l2']}],\n",
    "                     \n",
    "                       {'randomforestclassifier__n_estimators': [50, 100, 200, 500, 1000],\n",
    "                        'randomforestclassifier__min_samples_leaf': [50, 100, 200]},\n",
    "                      \n",
    "                       {'svc__kernel': ['linear']},\n",
    "                      ]\n",
    "\n",
    "param_grid_vectorizer = {'countvectorizer__min_df': [50, 100, 300, 500],\n",
    "                         'countvectorizer__max_df': [0.1, 0.15, 0.3, 0.5],\n",
    "                         'countvectorizer__ngram_range': [(1, 2)]}\n",
    "               \n",
    "param_grids_svd = [{'truncatedsvd': ['passthrough']},\n",
    "                   {'truncatedsvd__n_components': [100]}]\n"
   ]
  },
  {
   "cell_type": "markdown",
   "metadata": {},
   "source": [
    "The full set of grids to be tested can be seen below."
   ]
  },
  {
   "cell_type": "code",
   "execution_count": 11,
   "metadata": {},
   "outputs": [
    {
     "data": {
      "text/plain": [
       "[[{'countvectorizer__min_df': [50, 100, 300, 500],\n",
       "   'countvectorizer__max_df': [0.1, 0.15, 0.3, 0.5],\n",
       "   'countvectorizer__ngram_range': [(1, 2)],\n",
       "   'truncatedsvd': ['passthrough']},\n",
       "  {'countvectorizer__min_df': [50, 100, 300, 500],\n",
       "   'countvectorizer__max_df': [0.1, 0.15, 0.3, 0.5],\n",
       "   'countvectorizer__ngram_range': [(1, 2)],\n",
       "   'truncatedsvd__n_components': [100]}],\n",
       " [{'logisticregression__penalty': ['none'],\n",
       "   'countvectorizer__min_df': [50, 100, 300, 500],\n",
       "   'countvectorizer__max_df': [0.1, 0.15, 0.3, 0.5],\n",
       "   'countvectorizer__ngram_range': [(1, 2)],\n",
       "   'truncatedsvd': ['passthrough']},\n",
       "  {'logisticregression__C': [0.001, 0.01, 0.1, 10],\n",
       "   'logisticregression__penalty': ['l2'],\n",
       "   'countvectorizer__min_df': [50, 100, 300, 500],\n",
       "   'countvectorizer__max_df': [0.1, 0.15, 0.3, 0.5],\n",
       "   'countvectorizer__ngram_range': [(1, 2)],\n",
       "   'truncatedsvd': ['passthrough']},\n",
       "  {'logisticregression__penalty': ['none'],\n",
       "   'countvectorizer__min_df': [50, 100, 300, 500],\n",
       "   'countvectorizer__max_df': [0.1, 0.15, 0.3, 0.5],\n",
       "   'countvectorizer__ngram_range': [(1, 2)],\n",
       "   'truncatedsvd__n_components': [100]},\n",
       "  {'logisticregression__C': [0.001, 0.01, 0.1, 10],\n",
       "   'logisticregression__penalty': ['l2'],\n",
       "   'countvectorizer__min_df': [50, 100, 300, 500],\n",
       "   'countvectorizer__max_df': [0.1, 0.15, 0.3, 0.5],\n",
       "   'countvectorizer__ngram_range': [(1, 2)],\n",
       "   'truncatedsvd__n_components': [100]}],\n",
       " [{'randomforestclassifier__n_estimators': [50, 100, 200, 500, 1000],\n",
       "   'randomforestclassifier__min_samples_leaf': [50, 100, 200],\n",
       "   'countvectorizer__min_df': [50, 100, 300, 500],\n",
       "   'countvectorizer__max_df': [0.1, 0.15, 0.3, 0.5],\n",
       "   'countvectorizer__ngram_range': [(1, 2)],\n",
       "   'truncatedsvd': ['passthrough']},\n",
       "  {'randomforestclassifier__n_estimators': [50, 100, 200, 500, 1000],\n",
       "   'randomforestclassifier__min_samples_leaf': [50, 100, 200],\n",
       "   'countvectorizer__min_df': [50, 100, 300, 500],\n",
       "   'countvectorizer__max_df': [0.1, 0.15, 0.3, 0.5],\n",
       "   'countvectorizer__ngram_range': [(1, 2)],\n",
       "   'truncatedsvd__n_components': [100]}],\n",
       " [{'svc__kernel': ['linear'],\n",
       "   'countvectorizer__min_df': [50, 100, 300, 500],\n",
       "   'countvectorizer__max_df': [0.1, 0.15, 0.3, 0.5],\n",
       "   'countvectorizer__ngram_range': [(1, 2)],\n",
       "   'truncatedsvd': ['passthrough']},\n",
       "  {'svc__kernel': ['linear'],\n",
       "   'countvectorizer__min_df': [50, 100, 300, 500],\n",
       "   'countvectorizer__max_df': [0.1, 0.15, 0.3, 0.5],\n",
       "   'countvectorizer__ngram_range': [(1, 2)],\n",
       "   'truncatedsvd__n_components': [100]}]]"
      ]
     },
     "execution_count": 11,
     "metadata": {},
     "output_type": "execute_result"
    }
   ],
   "source": [
    "param_grids = []\n",
    "\n",
    "for i, param_grid_models in enumerate(param_grids_models):\n",
    "    \n",
    "        param_grids.append([])\n",
    "        \n",
    "        for param_grid_svd in param_grids_svd:\n",
    "\n",
    "            if isinstance(param_grid_models, dict):\n",
    "                dicts = [param_grid_models, param_grid_vectorizer, param_grid_svd]\n",
    "                grid = {k:v for d in dicts for k,v in d.items()}\n",
    "                param_grids[i].append(grid)\n",
    "            else:\n",
    "                for param_grid_models_item in param_grid_models:\n",
    "                    dicts = [param_grid_models_item, param_grid_vectorizer, param_grid_svd]\n",
    "                    grid = {k:v for d in dicts for k,v in d.items()}\n",
    "                    param_grids[i].append(grid)\n",
    "        \n",
    "param_grids"
   ]
  },
  {
   "cell_type": "markdown",
   "metadata": {},
   "source": [
    "I tuned the hyperparametres using `GridSearchCV`. For each model, 5-fold cross validation was performed. Accuracy was selected as a metric to assess the models' performance.\n",
    "\n",
    "It can be seen that all models gained similar results. Best accuracy on test dataset ranged from 69% for fandom forests and 75% for logistic regression. The best performing model was logistic regression with 1) C=0.01, 2) no reduction of dimensions, 3) minimum number of occurances equal to 50, 4) maximum percentage of occurences equal to 50%."
   ]
  },
  {
   "cell_type": "code",
   "execution_count": 12,
   "metadata": {},
   "outputs": [
    {
     "name": "stdout",
     "output_type": "stream",
     "text": [
      "Naive Bayes:\n",
      "Best accuracy on test dataset: 0.7281466577241225\n",
      "Corresponding accuracy on train dataset: 0.75380058126537\n",
      "Best model:\n",
      "Pipeline(steps=[('countvectorizer',\n",
      "                 CountVectorizer(max_df=0.15, min_df=50, ngram_range=(1, 2))),\n",
      "                ('truncatedsvd', 'passthrough'),\n",
      "                ('bernoullinb', BernoulliNB())])\n",
      "It has been 4.0 minutes since the loop started.\n",
      "\n"
     ]
    },
    {
     "name": "stderr",
     "output_type": "stream",
     "text": [
      "The max_iter was reached which means the coef_ did not converge\n"
     ]
    },
    {
     "name": "stdout",
     "output_type": "stream",
     "text": [
      "Logistic Regression:\n",
      "Best accuracy on test dataset: 0.7540800357701766\n",
      "Corresponding accuracy on train dataset: 0.8066174826738207\n",
      "Best model:\n",
      "Pipeline(steps=[('countvectorizer',\n",
      "                 CountVectorizer(max_df=0.5, min_df=50, ngram_range=(1, 2))),\n",
      "                ('truncatedsvd', 'passthrough'),\n",
      "                ('logisticregression',\n",
      "                 LogisticRegression(C=0.01, random_state=124, solver='saga'))])\n",
      "It has been 24.0 minutes since the loop started.\n",
      "\n",
      "Random Forests:\n",
      "Best accuracy on test dataset: 0.6910350994858037\n",
      "Corresponding accuracy on train dataset: 0.7083053878828527\n",
      "Best model:\n",
      "Pipeline(steps=[('countvectorizer',\n",
      "                 CountVectorizer(max_df=0.3, min_df=50, ngram_range=(1, 2))),\n",
      "                ('truncatedsvd', 'passthrough'),\n",
      "                ('randomforestclassifier',\n",
      "                 RandomForestClassifier(min_samples_leaf=50, n_estimators=1000,\n",
      "                                        random_state=124))])\n",
      "It has been 209.0 minutes since the loop started.\n",
      "\n",
      "SVM:\n",
      "Best accuracy on test dataset: 0.7187569863626202\n",
      "Corresponding accuracy on train dataset: 0.7809076682316118\n",
      "Best model:\n",
      "Pipeline(steps=[('countvectorizer',\n",
      "                 CountVectorizer(max_df=0.5, min_df=300, ngram_range=(1, 2))),\n",
      "                ('truncatedsvd', 'passthrough'),\n",
      "                ('svc', SVC(kernel='linear', random_state=124))])\n",
      "It has been 284.0 minutes since the loop started.\n",
      "\n"
     ]
    }
   ],
   "source": [
    "best_models = []\n",
    "test_scores = []\n",
    "train_scores = []\n",
    "cv = KFold(n_splits=5, shuffle=True, random_state=rs)\n",
    "\n",
    "loop_start_time = time.time()\n",
    "\n",
    "for i, (model, grids) in enumerate(zip(models, param_grids)):\n",
    "    \n",
    "    _best_models = []\n",
    "    _test_scores = []\n",
    "    _train_scores = []\n",
    "    \n",
    "    for grid in grids:\n",
    "        \n",
    "        optimizer = GridSearchCV(model,\n",
    "                                param_grid=grid,\n",
    "                                cv=cv,\n",
    "                                scoring = 'accuracy', \n",
    "                                n_jobs =-1) \n",
    "\n",
    "        optimizer.fit(X_train, y_train)\n",
    "\n",
    "        test_accuracy = accuracy_score(y_test, optimizer.best_estimator_.predict(X_test))\n",
    "        train_accuracy = accuracy_score(y_train, optimizer.best_estimator_.predict(X_train))\n",
    "        \n",
    "        _best_models.append(optimizer.best_estimator_)\n",
    "        _test_scores.append(test_accuracy)\n",
    "        _train_scores.append(train_accuracy)\n",
    "    \n",
    "    best_test_accuracy = max(_test_scores)\n",
    "    idx = _test_scores.index(best_test_accuracy)\n",
    "    best_train_accuracy = _train_scores[idx]\n",
    "    best_model = _best_models[idx]\n",
    "    best_models.append(best_model)\n",
    "    test_scores.append(best_test_accuracy)\n",
    "    train_scores.append(best_train_accuracy)\n",
    "    \n",
    "    print(f'{model_names[i]}:')\n",
    "    print(f'Best accuracy on test dataset: {best_test_accuracy}')\n",
    "    print(f'Corresponding accuracy on train dataset: {best_train_accuracy}')\n",
    "    print('Best model:')\n",
    "    print(best_model)\n",
    "    \n",
    "    current_time = time.time()\n",
    "    print(f'It has been {round((current_time - loop_start_time)/60, 0)} minutes since the loop started.\\n')\n"
   ]
  },
  {
   "cell_type": "code",
   "execution_count": 18,
   "metadata": {
    "scrolled": true
   },
   "outputs": [
    {
     "name": "stdout",
     "output_type": "stream",
     "text": [
      "Pipeline(steps=[('countvectorizer',\n",
      "                 CountVectorizer(max_df=0.5, min_df=50, ngram_range=(1, 2))),\n",
      "                ('truncatedsvd', 'passthrough'),\n",
      "                ('logisticregression',\n",
      "                 LogisticRegression(C=0.01, random_state=124, solver='saga'))])\n"
     ]
    }
   ],
   "source": [
    "model = best_models[np.argmax(test_scores)]\n",
    "print(model)"
   ]
  },
  {
   "cell_type": "markdown",
   "metadata": {},
   "source": [
    "Confusion matrix for the best model is presented below. It can be seen that the easiest class to predict was 'positive' (almost 86% of all instances of this class in a test dataset were classified correctly),  while the 'neutral' class was the most difficult one (64% of correct classifications). The model most often confused the 'negative' class with the 'neutral' class."
   ]
  },
  {
   "cell_type": "code",
   "execution_count": 67,
   "metadata": {},
   "outputs": [
    {
     "data": {
      "text/html": [
       "<div>\n",
       "<style scoped>\n",
       "    .dataframe tbody tr th:only-of-type {\n",
       "        vertical-align: middle;\n",
       "    }\n",
       "\n",
       "    .dataframe tbody tr th {\n",
       "        vertical-align: top;\n",
       "    }\n",
       "\n",
       "    .dataframe thead th {\n",
       "        text-align: right;\n",
       "    }\n",
       "</style>\n",
       "<table border=\"1\" class=\"dataframe\">\n",
       "  <thead>\n",
       "    <tr style=\"text-align: right;\">\n",
       "      <th></th>\n",
       "      <th>pred:negative</th>\n",
       "      <th>pred:neutral</th>\n",
       "      <th>pred:positive</th>\n",
       "      <th>%correct prediction</th>\n",
       "    </tr>\n",
       "  </thead>\n",
       "  <tbody>\n",
       "    <tr>\n",
       "      <th>true:negative</th>\n",
       "      <td>1096.0</td>\n",
       "      <td>301.0</td>\n",
       "      <td>58.0</td>\n",
       "      <td>0.753265</td>\n",
       "    </tr>\n",
       "    <tr>\n",
       "      <th>true:neutral</th>\n",
       "      <td>306.0</td>\n",
       "      <td>949.0</td>\n",
       "      <td>217.0</td>\n",
       "      <td>0.644701</td>\n",
       "    </tr>\n",
       "    <tr>\n",
       "      <th>true:positive</th>\n",
       "      <td>36.0</td>\n",
       "      <td>182.0</td>\n",
       "      <td>1328.0</td>\n",
       "      <td>0.858991</td>\n",
       "    </tr>\n",
       "  </tbody>\n",
       "</table>\n",
       "</div>"
      ],
      "text/plain": [
       "               pred:negative  pred:neutral  pred:positive  %correct prediction\n",
       "true:negative         1096.0         301.0           58.0             0.753265\n",
       "true:neutral           306.0         949.0          217.0             0.644701\n",
       "true:positive           36.0         182.0         1328.0             0.858991"
      ]
     },
     "execution_count": 67,
     "metadata": {},
     "output_type": "execute_result"
    }
   ],
   "source": [
    "np.set_printoptions(suppress=True)\n",
    "\n",
    "cmt  = confusion_matrix(y_test, model.predict(X_test)).astype(float)\n",
    "\n",
    "row_summary = np.zeros((3,1))\n",
    "for i in range(cmt.shape[0]):\n",
    "    row_summary[i,0] = cmt[i,i]/cmt[i,:].sum()\n",
    "\n",
    "cmt = np.append(cmt, row_summary, axis=1)\n",
    "\n",
    "cmt_df = pd.DataFrame(cmt, \n",
    "                      index= ['true:negative', 'true:neutral', 'true:positive'], \n",
    "                      columns = ['pred:negative', 'pred:neutral', 'pred:positive', '%correct prediction'])\n",
    "cmt_df\n"
   ]
  },
  {
   "cell_type": "code",
   "execution_count": 7,
   "metadata": {},
   "outputs": [],
   "source": [
    "# pickle.dump(model, open('data/model.pkl', 'wb'))\n",
    "# model = pickle.load(open('data/model.pkl', 'rb'))"
   ]
  },
  {
   "cell_type": "markdown",
   "metadata": {},
   "source": [
    "## 6. Relevance of features <a class=\"anchor\" id=\"chapter6\"></a>"
   ]
  },
  {
   "cell_type": "markdown",
   "metadata": {},
   "source": [
    "Let's now examine the most relevant features for the best model. The charts below present top 40 features by absolute values of coefficients for each class. For the 'negative' class, the following features reached the highest values of coefficients: 'nie polecać' ('*not recommend*'), 'rozczarować' ('*disappoint*'), 'nie nawilżać' ('*not moisturize*'), 'bubel' ('*dud*'), while the lowest values of coefficients can be observed for 'nie zapychać' ('*not clog*'), 'świetny' ('*excellent*'), 'nie podrażniać' ('*not irritate*'), idealny ('*perfect*'). For the 'neutral' class, the highest values of coefficients were observed in case of tokens related to mediocrity, such as 'średniak' ('*average one*'), 'średni' and 'przeciętny' ('*average*'), while the lowest values of coefficients were reached by features related either to awesomeness or failure: 'polecać' ('*recommend*'), 'bubel' ('*dud*'), 'najlepszy' ('*the best*') and 'brak' in the cons section (meaning '*no defects*')."
   ]
  },
  {
   "cell_type": "code",
   "execution_count": 11,
   "metadata": {
    "scrolled": true
   },
   "outputs": [
    {
     "data": {
      "image/png": "[encoded data removed]",
      "text/plain": [
       "<Figure size 1440x1080 with 3 Axes>"
      ]
     },
     "metadata": {
      "needs_background": "light"
     },
     "output_type": "display_data"
    }
   ],
   "source": [
    "grades_levels = [x for x in np.unique(grades_resampled)]\n",
    "grades_levels_labels = ['negative', 'neurtal', 'posivite']\n",
    "n_features = 40\n",
    "\n",
    "fig, axs = plt.subplots(3, 1, figsize = (20, 15)) \n",
    "fig.tight_layout(pad = 14)\n",
    "fig.suptitle(f'{n_features} features with highest absolute values of coefficients by class', fontsize=20)\n",
    "    \n",
    "for i, (grade, axs) in enumerate(zip(grades_levels, axs)):\n",
    "   \n",
    "    coefs = model.named_steps['logisticregression'].coef_[i]\n",
    "    feature_names = model.named_steps['countvectorizer'].get_feature_names()\n",
    "    idxs = [i for i in np.abs(coefs).argsort()[::-1][:n_features]]\n",
    "    \n",
    "    top_features = pd.DataFrame()\n",
    "    top_features['feature'] = [feature_names[i] for i in idxs]\n",
    "    top_features['coef'] = [coefs[i] for i in idxs]\n",
    "    top_features = top_features.sort_values(by='coef', ascending=False)\n",
    "    \n",
    "    colors = ['green' if value > 0 else 'red' for value in top_features['coef']]\n",
    "    axs.set_title(f'Class: {grades_levels_labels[i]}')\n",
    "    axs.bar(range(n_features), height = top_features['coef'], color = colors)\n",
    "    axs.tick_params(axis='x', labelrotation=90)\n",
    "    axs.set_xticks(range(n_features))\n",
    "    axs.set_xticklabels(top_features['feature'])\n",
    "\n",
    "plt.show()"
   ]
  },
  {
   "cell_type": "markdown",
   "metadata": {},
   "source": [
    "## 7. Criticism <a class=\"anchor\" id=\"chapter7\"></a>"
   ]
  },
  {
   "cell_type": "markdown",
   "metadata": {},
   "source": [
    "There is a room for improvement for the presented analysis. First area is the treatment of negations, which might be done using higher order of n-grams or other more advanced methods. Socondly, the presented approach related to 'pros and cons' was pretty straightforward. It can be futher analysed how to handle various structures of this section (sentences, bullets with nouns/adjectives/verbs or others). Another solution, which might help to improve the performance of models, is usage of embeddings (to better capture the relations between various words)."
   ]
  }
 ],
 "metadata": {
  "kernelspec": {
   "display_name": "Python 3",
   "language": "python",
   "name": "python3"
  },
  "language_info": {
   "codemirror_mode": {
    "name": "ipython",
    "version": 3
   },
   "file_extension": ".py",
   "mimetype": "text/x-python",
   "name": "python",
   "nbconvert_exporter": "python",
   "pygments_lexer": "ipython3",
   "version": "3.8.5"
  }
 },
 "nbformat": 4,
 "nbformat_minor": 4
}
